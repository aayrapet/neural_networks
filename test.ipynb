{
 "cells": [
  {
   "cell_type": "code",
   "execution_count": 1,
   "id": "38a1acbf",
   "metadata": {},
   "outputs": [],
   "source": [
    "import numpy as np\n",
    "import pandas as pd\n",
    "from main import LogisticRegression,accuracy\n",
    "from sklearn.datasets import make_classification"
   ]
  },
  {
   "cell_type": "markdown",
   "id": "2fa5f73f",
   "metadata": {},
   "source": [
    "# Logit"
   ]
  },
  {
   "cell_type": "code",
   "execution_count": 2,
   "id": "0e8347cc",
   "metadata": {},
   "outputs": [],
   "source": [
    "np.random.seed(42)\n",
    "# Generate  dataset\n",
    "X, y = make_classification(\n",
    "    n_samples=1000,      # Number of samples\n",
    "    n_features=4,       # Number of features\n",
    "    n_redundant=0,      \n",
    "    n_clusters_per_class=1,\n",
    "    flip_y=0.1,         # Add label noise\n",
    "    class_sep=1.0,      # Class separation\n",
    ")\n",
    "\n",
    "# Add Gaussian noise to the features\n",
    "noise = np.random.normal(0, 0.5, X.shape)\n",
    "X = X + noise"
   ]
  },
  {
   "cell_type": "code",
   "execution_count": 3,
   "id": "3526e7c1",
   "metadata": {},
   "outputs": [
    {
     "data": {
      "text/plain": [
       "np.float64(0.827)"
      ]
     },
     "execution_count": 3,
     "metadata": {},
     "output_type": "execute_result"
    }
   ],
   "source": [
    "#with constant\n",
    "model=LogisticRegression(eps=0.001,alpha=0.01)\n",
    "model.train(np.hstack([np.ones((X.shape[0],1)),X]),y)\n",
    "logit_predictions=model.predict(np.hstack([np.ones((X.shape[0],1)),X]),thr=0.5)\n",
    "accuracy(logit_predictions,y)"
   ]
  },
  {
   "cell_type": "code",
   "execution_count": 4,
   "id": "21c20267",
   "metadata": {},
   "outputs": [
    {
     "data": {
      "text/plain": [
       "np.float64(0.825)"
      ]
     },
     "execution_count": 4,
     "metadata": {},
     "output_type": "execute_result"
    }
   ],
   "source": [
    "#without\n",
    "model=LogisticRegression(eps=1e-5,alpha=0.1)\n",
    "model.train(X,y)\n",
    "logit_predictions=model.predict(X,thr=0.5)\n",
    "np.mean(logit_predictions.flatten() == y.flatten())\n",
    "accuracy(logit_predictions,y)"
   ]
  },
  {
   "cell_type": "markdown",
   "id": "e5a61853",
   "metadata": {},
   "source": [
    "here we just used simple gradient ascent to maximise LL, other allgorithms are presented in ml_parametric"
   ]
  },
  {
   "cell_type": "markdown",
   "id": "604b57a9",
   "metadata": {},
   "source": [
    "# MLP with sigmoid activation function (logit)"
   ]
  },
  {
   "cell_type": "code",
   "execution_count": 5,
   "id": "971d27f8",
   "metadata": {},
   "outputs": [],
   "source": [
    "from main import NN_multi_layer_one_width"
   ]
  },
  {
   "cell_type": "code",
   "execution_count": 6,
   "id": "28999808",
   "metadata": {},
   "outputs": [
    {
     "name": "stdout",
     "output_type": "stream",
     "text": [
      "reached max iterations, not converged\n",
      "1 layerss 0.832\n"
     ]
    }
   ],
   "source": [
    "i=1\n",
    "model=NN_multi_layer_one_width(nb_layers=i,max_iter=1000,thr=1e-5,alpha=0.1)\n",
    "model.train(X,y)\n",
    "nn_predictions=model.predict(X) \n",
    "print(i,\"layerss\",accuracy(nn_predictions,y))"
   ]
  },
  {
   "cell_type": "code",
   "execution_count": 7,
   "id": "cf4eeef6",
   "metadata": {},
   "outputs": [
    {
     "name": "stdout",
     "output_type": "stream",
     "text": [
      "reached max iterations, not converged\n",
      "2 layerss 0.833\n"
     ]
    }
   ],
   "source": [
    "i=2\n",
    "model=NN_multi_layer_one_width(nb_layers=i,max_iter=1000,thr=1e-5,alpha=1.5)\n",
    "model.train(X,y)\n",
    "nn_predictions=model.predict(X) \n",
    "print(i,\"layerss\",accuracy(nn_predictions,y))"
   ]
  },
  {
   "cell_type": "code",
   "execution_count": 11,
   "id": "fa8d7f16",
   "metadata": {},
   "outputs": [
    {
     "name": "stdout",
     "output_type": "stream",
     "text": [
      "reached max iterations, not converged\n",
      "3 layerss 0.832\n"
     ]
    }
   ],
   "source": [
    "i=3\n",
    "model=NN_multi_layer_one_width(nb_layers=i,max_iter=1000,thr=1e-5,alpha=3)\n",
    "model.train(X,y)\n",
    "nn_predictions=model.predict(X) \n",
    "print(i,\"layerss\",accuracy(nn_predictions,y))"
   ]
  },
  {
   "cell_type": "code",
   "execution_count": 19,
   "id": "da179b85",
   "metadata": {},
   "outputs": [
    {
     "name": "stdout",
     "output_type": "stream",
     "text": [
      "reached max iterations, not converged\n",
      "4 layerss 0.822\n"
     ]
    }
   ],
   "source": [
    "i=4\n",
    "model=NN_multi_layer_one_width(nb_layers=i,max_iter=1000,thr=1e-5,alpha=3)\n",
    "model.train(X,y)\n",
    "nn_predictions=model.predict(X) \n",
    "print(i,\"layerss\",accuracy(nn_predictions,y))"
   ]
  },
  {
   "cell_type": "code",
   "execution_count": 20,
   "id": "c3a03870",
   "metadata": {},
   "outputs": [
    {
     "name": "stdout",
     "output_type": "stream",
     "text": [
      "reached max iterations, not converged\n",
      "5 layerss 0.506\n"
     ]
    }
   ],
   "source": [
    "i=5\n",
    "model=NN_multi_layer_one_width(nb_layers=i,max_iter=1000,thr=1e-5,alpha=6)\n",
    "model.train(X,y)\n",
    "nn_predictions=model.predict(X) \n",
    "print(i,\"layerss\",accuracy(nn_predictions,y))"
   ]
  },
  {
   "cell_type": "markdown",
   "id": "382a3292",
   "metadata": {},
   "source": [
    "vanishing grad as 5th layer is too much ->problem as algo did not learn, so try to work on initialisation or other activation fct (larger alpha dont help here) "
   ]
  },
  {
   "cell_type": "markdown",
   "id": "da741f3f",
   "metadata": {},
   "source": []
  },
  {
   "cell_type": "markdown",
   "id": "e57b4b74",
   "metadata": {},
   "source": [
    "# MLP with other activation functions"
   ]
  },
  {
   "cell_type": "markdown",
   "id": "d1b23aed",
   "metadata": {},
   "source": [
    "- tomorrow do full mlp multiple neurons, start with ensae td  \n",
    "- add non linear activation functions and their derivatives  \n",
    "- do logit multi label  \n",
    "- do nn multilabel  \n",
    "- do better initialisations  \n",
    "- do sgd, adam, momentum  \n",
    "- add ols with l1 l2 l3 class  \n",
    "- add logit with l1 l2 l3 class  \n",
    "- do mlp with l1 l2 l3  \n",
    "- do dropout  \n",
    "- do mnist with nn  \n",
    "- do regression nn  \n",
    "\n",
    "------------------------------------------------------------\n",
    "\n",
    "CNN\n",
    "RNN"
   ]
  }
 ],
 "metadata": {
  "kernelspec": {
   "display_name": "Python 3",
   "language": "python",
   "name": "python3"
  },
  "language_info": {
   "codemirror_mode": {
    "name": "ipython",
    "version": 3
   },
   "file_extension": ".py",
   "mimetype": "text/x-python",
   "name": "python",
   "nbconvert_exporter": "python",
   "pygments_lexer": "ipython3",
   "version": "3.12.9"
  }
 },
 "nbformat": 4,
 "nbformat_minor": 5
}
