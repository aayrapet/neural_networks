{
 "cells": [
  {
   "cell_type": "code",
   "execution_count": 1,
   "id": "38a1acbf",
   "metadata": {},
   "outputs": [],
   "source": [
    "import numpy as np\n",
    "import pandas as pd\n",
    "from main import MLP_Classifier,Layer\n",
    "from sklearn.datasets import make_classification"
   ]
  },
  {
   "cell_type": "code",
   "execution_count": 3,
   "id": "67427120",
   "metadata": {},
   "outputs": [],
   "source": [
    "np.random.seed(42)\n",
    "# Generate  dataset\n",
    "X, Y = make_classification(\n",
    "    n_samples=1000,     \n",
    "    n_features=4,       \n",
    "    n_redundant=0,      \n",
    "    n_clusters_per_class=1,\n",
    "    flip_y=0.1,         # Add label noise\n",
    "    class_sep=1.0,      # Class separation\n",
    ")\n",
    "\n",
    "\n",
    "noise = np.random.normal(0, 0.5, X.shape)\n",
    "X = X + noise\n",
    "X=pd.DataFrame(X)\n",
    "Y=pd.DataFrame(Y)"
   ]
  },
  {
   "cell_type": "code",
   "execution_count": 4,
   "id": "15db729e",
   "metadata": {},
   "outputs": [
    {
     "name": "stdout",
     "output_type": "stream",
     "text": [
      "Don't forget to normalise input data and think about Batch normalisations\n"
     ]
    }
   ],
   "source": [
    "\n",
    "model=MLP_Classifier(\n",
    "    \n",
    "    ([Layer(nb_neurons=20,activation_function=\"relu\",regul=('l2',0.1),initial=\"he\"), \n",
    "        Layer(nb_neurons=10,activation_function=\"relu\",regul=('l2',0.1),initial=\"he\"),\n",
    "        Layer(nb_neurons=30,activation_function=\"relu\",regul=('dropout',0.9),initial=\"he\"),\n",
    "   \n",
    "     ]),\n",
    "    max_iter=2000,thr=1e-5,alpha=0.1,seed=123\n",
    "    )\n"
   ]
  },
  {
   "cell_type": "code",
   "execution_count": 5,
   "id": "1a3077f4",
   "metadata": {},
   "outputs": [
    {
     "name": "stdout",
     "output_type": "stream",
     "text": [
      "iteration 0 : accuracy  : 0.706, loss : 0.6920396948619437\n",
      "iteration 100 : accuracy  : 0.804, loss : 0.5380666965459461\n",
      "iteration 200 : accuracy  : 0.832, loss : 0.4501948661818333\n",
      "Model terminated successfully, Converged at 236 iteration, for a given alpha :  0.1 and given threshold : 1e-05 \n"
     ]
    }
   ],
   "source": [
    "model.train(X,Y)\n"
   ]
  }
 ],
 "metadata": {
  "kernelspec": {
   "display_name": "Python 3",
   "language": "python",
   "name": "python3"
  },
  "language_info": {
   "codemirror_mode": {
    "name": "ipython",
    "version": 3
   },
   "file_extension": ".py",
   "mimetype": "text/x-python",
   "name": "python",
   "nbconvert_exporter": "python",
   "pygments_lexer": "ipython3",
   "version": "3.13.7"
  }
 },
 "nbformat": 4,
 "nbformat_minor": 5
}
