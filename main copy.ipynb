{
 "cells": [
  {
   "cell_type": "code",
   "execution_count": 2,
   "id": "bb1c0c5a",
   "metadata": {},
   "outputs": [
    {
     "data": {
      "text/plain": [
       "'cpu'"
      ]
     },
     "execution_count": 2,
     "metadata": {},
     "output_type": "execute_result"
    }
   ],
   "source": [
    "import math as mt \n",
    "import numpy as np \n",
    "import math\n",
    "from numpy.lib.stride_tricks import sliding_window_view\n",
    "import torch.nn.functional as F\n",
    "import torch\n",
    "from numpy_cnn_operations import *\n",
    "device=\"cuda\" if  torch.cuda.is_available() else \"cpu\"\n",
    "torch.cuda.device_count()\n",
    "device\n"
   ]
  },
  {
   "cell_type": "markdown",
   "id": "0692c219",
   "metadata": {},
   "source": [
    "numpy"
   ]
  },
  {
   "cell_type": "markdown",
   "id": "98d9d72d",
   "metadata": {},
   "source": [
    "torch"
   ]
  },
  {
   "cell_type": "code",
   "execution_count": 3,
   "id": "0a59de88",
   "metadata": {},
   "outputs": [],
   "source": [
    "\n",
    "\n",
    "def padding_torch(img_array_perm,padding,stride,kernel_size):\n",
    "        if padding: \n",
    "\n",
    "            #this padding is correct as can i allow assymetric padding and i use ALL pixels at borders\n",
    "            H=img_array_perm[0,0,:,:].shape[0]\n",
    "            W=img_array_perm[0,0,:,:].shape[1]\n",
    "\n",
    "            p_top, p_bottom, p_left, p_right=calculate_optimal_padding(H,W,f=kernel_size,s=stride)\n",
    "\n",
    "            img_array_perm=F.pad(img_array_perm,(p_left,p_right,p_top,p_bottom))\n",
    "        return img_array_perm\n",
    "\n",
    "def convolution_torch(img_array_perm,kernels_perm,bias,padding=True,stride=1):\n",
    "    kernels_perm=torch.flip(kernels_perm, dims=[2, 3])\n",
    "    kernel_size=kernels_perm.shape[2]\n",
    "    img_array_perm=padding_torch(img_array_perm,padding,stride,kernel_size)\n",
    "    out = F.conv2d(\n",
    "        img_array_perm,          # shape (N, C_in, H, W)\n",
    "        kernels_perm,    # shape (C_out, C_in, kH, kW)\n",
    "        stride=stride,   \n",
    "    )\n",
    "    return out.add_(bias.reshape(1,len(kernels_perm),1,1))\n",
    "\n",
    "def maxpooling_torch(img_array_perm,kernel_size,stride=2,padding=True):\n",
    "\n",
    "    img_array_perm=padding_torch(img_array_perm,padding,stride,kernel_size)\n",
    "\n",
    "    out = F.max_pool2d(\n",
    "        img_array_perm,\n",
    "        kernel_size=kernel_size,  # size of pooling window\n",
    "        stride=stride,     \n",
    "    )\n",
    "    return out"
   ]
  },
  {
   "cell_type": "markdown",
   "id": "da131eff",
   "metadata": {},
   "source": [
    "torch"
   ]
  },
  {
   "cell_type": "code",
   "execution_count": 5,
   "id": "48442744",
   "metadata": {},
   "outputs": [
    {
     "data": {
      "text/plain": [
       "tensor([[  89.5955,  171.0315,  169.7924,  174.2054],\n",
       "        [  45.9423,   19.2987,   57.5251,  -18.9793],\n",
       "        [   0.0000, -102.0316,  -56.7250,  -66.5183],\n",
       "        [   0.0000, -142.2567,  -45.2281,  -94.5289]])"
      ]
     },
     "execution_count": 5,
     "metadata": {},
     "output_type": "execute_result"
    }
   ],
   "source": [
    "nb_images=10\n",
    "nb_filters=7\n",
    "if device==\"cuda\":\n",
    "    torch.cuda.manual_seed(123)\n",
    "else:\n",
    "    torch.manual_seed(123)\n",
    "img_array = torch.randn(nb_images,3,25, 25,device=device)\n",
    "\n",
    "kernels1 = torch.randn(nb_filters,3,2, 2,device=device)\n",
    "bias1=torch.arange(nb_filters,device=device)\n",
    "\n",
    "\n",
    "conv1=convolution_torch(img_array,kernels1,bias1,padding=True,stride=1)\n",
    "mx=maxpooling_torch(conv1,kernel_size=2,stride=2,padding=True)\n",
    "\n",
    "nb_filters=nb_filters*2\n",
    "\n",
    "\n",
    "kernels2 = torch.randn(nb_filters,int(nb_filters/2),2, 2,device=device)\n",
    "bias2=torch.arange(nb_filters,device=device)\n",
    "\n",
    "conv1=convolution_torch(mx,kernels2,bias2,padding=True,stride=1)\n",
    "mx=maxpooling_torch(conv1,kernel_size=2,stride=2,padding=True)\n",
    "\n",
    "nb_filters=nb_filters*2\n",
    "\n",
    "\n",
    "kernels3 = torch.randn(nb_filters,int(nb_filters/2),2, 2,device=device)\n",
    "bias3=torch.arange(nb_filters,device=device)\n",
    "\n",
    "conv1=convolution_torch(mx,kernels3,bias3,padding=True,stride=1)\n",
    "mx=maxpooling_torch(conv1,kernel_size=2,stride=2,padding=True)\n",
    "mx[0,0,:,:]\n",
    "\n"
   ]
  },
  {
   "cell_type": "code",
   "execution_count": 6,
   "id": "1847f74f",
   "metadata": {},
   "outputs": [
    {
     "data": {
      "text/plain": [
       "torch.Size([10, 28, 4, 4])"
      ]
     },
     "execution_count": 6,
     "metadata": {},
     "output_type": "execute_result"
    }
   ],
   "source": [
    "mx.shape"
   ]
  },
  {
   "cell_type": "code",
   "execution_count": 9,
   "id": "3ae247b0",
   "metadata": {},
   "outputs": [
    {
     "data": {
      "text/plain": [
       "10"
      ]
     },
     "execution_count": 9,
     "metadata": {},
     "output_type": "execute_result"
    }
   ],
   "source": [
    "mx.shape[0]"
   ]
  },
  {
   "cell_type": "markdown",
   "id": "a7ae9458",
   "metadata": {},
   "source": [
    "# multi  image CNN Forward pass"
   ]
  },
  {
   "cell_type": "markdown",
   "id": "f08c938c",
   "metadata": {},
   "source": [
    "numpy"
   ]
  },
  {
   "cell_type": "code",
   "execution_count": 134,
   "id": "b1edc136",
   "metadata": {},
   "outputs": [
    {
     "name": "stdout",
     "output_type": "stream",
     "text": [
      "1 0 1 0\n",
      "conv1  (25, 25, 7, 1000)\n",
      "1 0 1 0\n",
      "mp1  (13, 13, 7, 1000)\n",
      "1 0 1 0\n",
      "conv1  (13, 13, 14, 1000)\n",
      "1 0 1 0\n",
      "mp1  (7, 7, 14, 1000)\n",
      "1 0 1 0\n",
      "conv1  (7, 7, 28, 1000)\n",
      "1 0 1 0\n",
      "mp1  (4, 4, 28, 1000)\n"
     ]
    }
   ],
   "source": [
    "\n",
    "\n",
    "actual=img_array.permute(2,3,1,0).numpy()\n",
    "kernels3=kernels3.permute(2,3,1,0).numpy()\n",
    "kernels2=kernels2.permute(2,3,1,0).numpy()\n",
    "kernels1=kernels1.permute(2,3,1,0).numpy()\n",
    "bias3=bias3.numpy()\n",
    "bias2=bias2.numpy()\n",
    "bias1=bias1.numpy()\n",
    "\n",
    "nb_filters = 7\n",
    "\n",
    "\n",
    "\n",
    "conv1=conv3D(x=actual,nb_filters=nb_filters,kernel=kernels1 ,bias=bias1,padding=True)\n",
    "print(\"conv1 \",conv1.shape)\n",
    "\n",
    "mp1=MaxPooling3D(conv1,filter_f=2,stride=2)\n",
    "print(\"mp1 \",mp1.shape)\n",
    "\n",
    "actual=mp1\n",
    "\n",
    "\n",
    "\n",
    "nb_filters = nb_filters*2\n",
    "\n",
    "\n",
    "\n",
    "conv1=conv3D(x=actual,nb_filters=nb_filters,kernel=kernels2 ,bias=bias2,padding=True)\n",
    "print(\"conv1 \",conv1.shape)\n",
    "\n",
    "mp1=MaxPooling3D(conv1,filter_f=2,stride=2)\n",
    "print(\"mp1 \",mp1.shape)\n",
    "\n",
    "\n",
    "actual=mp1\n",
    "\n",
    "\n",
    "\n",
    "nb_filters = nb_filters*2\n",
    "\n",
    "\n",
    "\n",
    "conv1=conv3D(x=actual,nb_filters=nb_filters,kernel=kernels3 ,bias=bias3,padding=True)\n",
    "print(\"conv1 \",conv1.shape)\n",
    "\n",
    "mp1=MaxPooling3D(conv1,filter_f=2,stride=2)\n",
    "print(\"mp1 \",mp1.shape)\n",
    "\n"
   ]
  },
  {
   "cell_type": "code",
   "execution_count": 123,
   "id": "c5b1b14b",
   "metadata": {},
   "outputs": [
    {
     "data": {
      "text/plain": [
       "array([[   0.        ,   11.39261206,   24.92602323,   54.52905878],\n",
       "       [   0.        , -115.0364984 , -197.72659355, -262.25516889],\n",
       "       [  30.91247531,  -60.46000182, -153.98798617, -268.18114204],\n",
       "       [   0.        , -115.68519437, -190.76068574, -232.33123386]])"
      ]
     },
     "execution_count": 123,
     "metadata": {},
     "output_type": "execute_result"
    }
   ],
   "source": [
    "mp1[:,:,0,0]"
   ]
  },
  {
   "cell_type": "code",
   "execution_count": 125,
   "id": "53257674",
   "metadata": {},
   "outputs": [
    {
     "data": {
      "text/plain": [
       "tensor([[   0.0000,   11.3926,   24.9260,   54.5291],\n",
       "        [   0.0000, -115.0365, -197.7266, -262.2551],\n",
       "        [  30.9125,  -60.4600, -153.9879, -268.1811],\n",
       "        [   0.0000, -115.6852, -190.7607, -232.3313]])"
      ]
     },
     "execution_count": 125,
     "metadata": {},
     "output_type": "execute_result"
    }
   ],
   "source": [
    "mx[0,0,:,:]"
   ]
  },
  {
   "cell_type": "markdown",
   "id": "bcf58aba",
   "metadata": {},
   "source": [
    "torch"
   ]
  },
  {
   "cell_type": "markdown",
   "id": "3f811675",
   "metadata": {},
   "source": [
    "# one  image CNN Forward pass"
   ]
  },
  {
   "cell_type": "code",
   "execution_count": 125,
   "id": "b374bf1b",
   "metadata": {},
   "outputs": [],
   "source": [
    "np.random.seed(123)\n",
    "nb_images=15\n",
    "img_array = np.random.randn(100, 100, 3)"
   ]
  },
  {
   "cell_type": "code",
   "execution_count": 126,
   "id": "7e7a97b0",
   "metadata": {},
   "outputs": [
    {
     "name": "stdout",
     "output_type": "stream",
     "text": [
      "img  (100, 100, 3)\n",
      "1 0 1 0\n",
      "conv1  (100, 100, 7)\n",
      "0 0 0 0\n",
      "mp1  (50, 50, 7)\n",
      "1 0 1 0\n",
      "conv1  (50, 50, 14)\n",
      "0 0 0 0\n",
      "mp1  (25, 25, 14)\n",
      "1 0 1 0\n",
      "conv1  (25, 25, 28)\n",
      "1 0 1 0\n",
      "mp1  (13, 13, 28)\n"
     ]
    }
   ],
   "source": [
    "print(\"img \",img_array.shape)\n",
    "\n",
    "actual=img_array\n",
    "\n",
    "nb_filters = 7\n",
    "kernels = np.random.randn(2, 2, 3,nb_filters)\n",
    "bias=np.arange(nb_filters)\n",
    "\n",
    "\n",
    "conv1=conv3D(x=actual,nb_filters=nb_filters,kernel=kernels ,bias=bias,padding=True)\n",
    "print(\"conv1 \",conv1.shape)\n",
    "\n",
    "mp1=MaxPooling3D(conv1,filter_f=2,stride=2)\n",
    "print(\"mp1 \",mp1.shape)\n",
    "\n",
    "actual=mp1\n",
    "\n",
    "\n",
    "\n",
    "nb_filters = nb_filters*2\n",
    "kernels = np.random.randn(2, 2, int(nb_filters/2),nb_filters)\n",
    "bias=np.arange(nb_filters)\n",
    "\n",
    "\n",
    "conv1=conv3D(x=actual,nb_filters=nb_filters,kernel=kernels ,bias=bias,padding=True)\n",
    "print(\"conv1 \",conv1.shape)\n",
    "\n",
    "mp1=MaxPooling3D(conv1,filter_f=2,stride=2)\n",
    "print(\"mp1 \",mp1.shape)\n",
    "\n",
    "\n",
    "actual=mp1\n",
    "\n",
    "\n",
    "\n",
    "nb_filters = nb_filters*2\n",
    "kernels = np.random.randn(2, 2, int(nb_filters/2),nb_filters)\n",
    "bias=np.arange(nb_filters)\n",
    "\n",
    "\n",
    "conv1=conv3D(x=actual,nb_filters=nb_filters,kernel=kernels ,bias=bias,padding=True)\n",
    "print(\"conv1 \",conv1.shape)\n",
    "\n",
    "mp1=MaxPooling3D(conv1,filter_f=2,stride=2)\n",
    "print(\"mp1 \",mp1.shape)\n",
    "\n"
   ]
  }
 ],
 "metadata": {
  "kernelspec": {
   "display_name": "Python 3",
   "language": "python",
   "name": "python3"
  },
  "language_info": {
   "codemirror_mode": {
    "name": "ipython",
    "version": 3
   },
   "file_extension": ".py",
   "mimetype": "text/x-python",
   "name": "python",
   "nbconvert_exporter": "python",
   "pygments_lexer": "ipython3",
   "version": "3.13.8"
  }
 },
 "nbformat": 4,
 "nbformat_minor": 5
}
